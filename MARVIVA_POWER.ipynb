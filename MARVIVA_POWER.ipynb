{
 "cells": [
  {
   "cell_type": "markdown",
   "metadata": {},
   "source": [
    "TRAZABILIDAD"
   ]
  },
  {
   "cell_type": "markdown",
   "metadata": {},
   "source": [
    "CAPTURA PRINCIPAL"
   ]
  },
  {
   "cell_type": "code",
   "execution_count": 17,
   "metadata": {},
   "outputs": [
    {
     "name": "stdout",
     "output_type": "stream",
     "text": [
      "Archivo combinado guardado exitosamente en: D:\\ING EDUARDO GUTIERREZ\\SCRAP_SUPER\\GIT_HUB\\API_TRAZABILIDAD\\FT_-Captura primaria_integrado.xlsx\n"
     ]
    }
   ],
   "source": [
    "import pandas as pd\n",
    "import os\n",
    "\n",
    "# Definir la ruta base del archivo\n",
    "base_path = r\"D:\\ING EDUARDO GUTIERREZ\\SCRAP_SUPER\\GIT_HUB\\API_TRAZABILIDAD\\Base Survey123\"\n",
    "input_file = os.path.join(base_path, \"S123_9a10aefacf9f4bf1953f6b474d4e4ff9_EXCEL.xlsx\")\n",
    "output_file = r\"D:\\ING EDUARDO GUTIERREZ\\SCRAP_SUPER\\GIT_HUB\\API_TRAZABILIDAD\\FT_-Captura primaria_integrado.xlsx\"\n",
    "\n",
    "# Verificar si el archivo existe\n",
    "if not os.path.exists(input_file):\n",
    "    raise FileNotFoundError(f\"El archivo no se encuentra en la ruta especificada: {input_file}\")\n",
    "\n",
    "# Cargar las hojas (pestañas) del archivo Excel en DataFrames\n",
    "try:\n",
    "    df_sheet1 = pd.read_excel(input_file, sheet_name='FT_Formulario_de_trazabilid_0')\n",
    "    df_sheet2 = pd.read_excel(input_file, sheet_name='Caladeros_1')\n",
    "    df_sheet3 = pd.read_excel(input_file, sheet_name='Capturas_Principal_2')\n",
    "except Exception as e:\n",
    "    raise ValueError(f\"Error al cargar las hojas del archivo Excel: {e}\")\n",
    "\n",
    "# Realizar la primera unión entre df_sheet1 y df_sheet2 utilizando las columnas llave correctas\n",
    "try:\n",
    "    df_merged_1 = pd.merge(df_sheet1, df_sheet2, left_on='GlobalID', right_on='ParentGlobalID', how='outer')\n",
    "except KeyError as e:\n",
    "    raise KeyError(f\"Error en las columnas clave para la primera unión: {e}\")\n",
    "\n",
    "# Realizar la segunda unión entre df_merged_1 y df_sheet3\n",
    "try:\n",
    "    df_merged_final = pd.merge(df_merged_1, df_sheet3, left_on='GlobalID_x', right_on='ParentGlobalID', how='outer')\n",
    "except KeyError as e:\n",
    "    raise KeyError(f\"Error en las columnas clave para la segunda unión: {e}\")\n",
    "\n",
    "# Guardar el resultado en un nuevo archivo Excel\n",
    "try:\n",
    "    df_merged_final.to_excel(output_file, index=False)\n",
    "    print(f\"Archivo combinado guardado exitosamente en: {output_file}\")\n",
    "except Exception as e:\n",
    "    raise IOError(f\"Error al guardar el archivo Excel: {e}\")\n"
   ]
  },
  {
   "cell_type": "code",
   "execution_count": null,
   "metadata": {},
   "outputs": [],
   "source": [
    "CAPTURA SECUNDARIA"
   ]
  },
  {
   "cell_type": "code",
   "execution_count": null,
   "metadata": {},
   "outputs": [],
   "source": [
    "import pandas as pd\n",
    "import os\n",
    "\n",
    "# Definir la ruta base del archivo\n",
    "base_path = r\"D:\\ING EDUARDO GUTIERREZ\\SCRAP_SUPER\\GIT_HUB\\API_TRAZABILIDAD\\Base Survey123\"\n",
    "input_file = os.path.join(base_path, \"S123_9a10aefacf9f4bf1953f6b474d4e4ff9_EXCEL.xlsx\")\n",
    "output_file = r\"D:\\ING EDUARDO GUTIERREZ\\SCRAP_SUPER\\GIT_HUB\\API_TRAZABILIDAD\\FT_-Captura Secundaria_integrado.xlsx\"\n",
    "\n",
    "# Verificar si el archivo existe\n",
    "if not os.path.exists(input_file):\n",
    "    raise FileNotFoundError(f\"El archivo no se encuentra en la ruta especificada: {input_file}\")\n",
    "\n",
    "# Cargar las hojas (pestañas) del archivo Excel en DataFrames\n",
    "try:\n",
    "    df_sheet1 = pd.read_excel(input_file, sheet_name='FT_Formulario_de_trazabilid_0')\n",
    "    df_sheet2 = pd.read_excel(input_file, sheet_name='Caladeros_1')\n",
    "    df_sheet3 = pd.read_excel(input_file, sheet_name='Capturas_Secundario_3')\n",
    "except Exception as e:\n",
    "    raise ValueError(f\"Error al cargar las hojas del archivo Excel: {e}\")\n",
    "\n",
    "# Realizar la primera unión entre df_sheet1 y df_sheet2 utilizando las columnas llave correctas\n",
    "try:\n",
    "    df_merged_1 = pd.merge(df_sheet1, df_sheet2, left_on='GlobalID', right_on='ParentGlobalID', how='outer')\n",
    "except KeyError as e:\n",
    "    raise KeyError(f\"Error en las columnas clave para la primera unión: {e}\")\n",
    "\n",
    "# Realizar la segunda unión entre df_merged_1 y df_sheet3\n",
    "try:\n",
    "    df_merged_final = pd.merge(df_merged_1, df_sheet3, left_on='GlobalID_x', right_on='ParentGlobalID', how='outer')\n",
    "except KeyError as e:\n",
    "    raise KeyError(f\"Error en las columnas clave para la segunda unión: {e}\")\n",
    "\n",
    "# Guardar el resultado en un nuevo archivo Excel\n",
    "try:\n",
    "    df_merged_final.to_excel(output_file, index=False)\n",
    "    print(f\"Archivo combinado guardado exitosamente en: {output_file}\")\n",
    "except Exception as e:\n",
    "    raise IOError(f\"Error al guardar el archivo Excel: {e}\")\n"
   ]
  },
  {
   "cell_type": "markdown",
   "metadata": {},
   "source": [
    "captura pianguas"
   ]
  },
  {
   "cell_type": "code",
   "execution_count": null,
   "metadata": {},
   "outputs": [],
   "source": [
    "import pandas as pd\n",
    "import os\n",
    "\n",
    "# Definir la ruta base del archivo\n",
    "base_path = r\"D:\\ING EDUARDO GUTIERREZ\\SCRAP_SUPER\\GIT_HUB\\API_TRAZABILIDAD\\Base Survey123\"\n",
    "input_file = os.path.join(base_path, \"S123_9a10aefacf9f4bf1953f6b474d4e4ff9_EXCEL.xlsx\")\n",
    "output_file = r\"D:\\ING EDUARDO GUTIERREZ\\SCRAP_SUPER\\GIT_HUB\\API_TRAZABILIDAD\\FT_Latas_integrado.xlsx\"\n",
    "\n",
    "# Verificar si el archivo existe\n",
    "if not os.path.exists(input_file):\n",
    "    raise FileNotFoundError(f\"El archivo no se encuentra en la ruta especificada: {input_file}\")\n",
    "\n",
    "# Cargar las hojas (pestañas) del archivo Excel en DataFrames\n",
    "try:\n",
    "    df_sheet1 = pd.read_excel(input_file, sheet_name='FT_Formulario_de_trazabilid_0')\n",
    "    df_sheet2 = pd.read_excel(input_file, sheet_name='Caladeros_1')\n",
    "    df_sheet3 = pd.read_excel(input_file, sheet_name='Datos_Latas_4')\n",
    "except Exception as e:\n",
    "    raise ValueError(f\"Error al cargar las hojas del archivo Excel: {e}\")\n",
    "\n",
    "# Realizar la primera unión entre df_sheet1 y df_sheet2 utilizando las columnas llave correctas\n",
    "try:\n",
    "    df_merged_1 = pd.merge(df_sheet1, df_sheet2, left_on='GlobalID', right_on='ParentGlobalID', how='outer')\n",
    "except KeyError as e:\n",
    "    raise KeyError(f\"Error en las columnas clave para la primera unión: {e}\")\n",
    "\n",
    "# Realizar la segunda unión entre df_merged_1 y df_sheet3\n",
    "try:\n",
    "    df_merged_final = pd.merge(df_merged_1, df_sheet3, left_on='GlobalID_x', right_on='ParentGlobalID', how='outer')\n",
    "except KeyError as e:\n",
    "    raise KeyError(f\"Error en las columnas clave para la segunda unión: {e}\")\n",
    "\n",
    "# Guardar el resultado en un nuevo archivo Excel\n",
    "try:\n",
    "    df_merged_final.to_excel(output_file, index=False)\n",
    "    print(f\"Archivo combinado guardado exitosamente en: {output_file}\")\n",
    "except Exception as e:\n",
    "    raise IOError(f\"Error al guardar el archivo Excel: {e}\")\n"
   ]
  }
 ],
 "metadata": {
  "kernelspec": {
   "display_name": "Python 3",
   "language": "python",
   "name": "python3"
  },
  "language_info": {
   "codemirror_mode": {
    "name": "ipython",
    "version": 3
   },
   "file_extension": ".py",
   "mimetype": "text/x-python",
   "name": "python",
   "nbconvert_exporter": "python",
   "pygments_lexer": "ipython3",
   "version": "3.13.1"
  }
 },
 "nbformat": 4,
 "nbformat_minor": 2
}
